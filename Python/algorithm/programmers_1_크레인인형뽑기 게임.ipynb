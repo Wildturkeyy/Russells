{
 "cells": [
  {
   "attachments": {},
   "cell_type": "markdown",
   "metadata": {},
   "source": [
    "프로그래머스 : 크레인 인형뽁기 게임\n",
    "https://school.programmers.co.kr/learn/courses/30/lessons/64061"
   ]
  },
  {
   "cell_type": "code",
   "execution_count": 1,
   "metadata": {},
   "outputs": [],
   "source": [
    "board = [[0,0,0,0,0],[0,0,1,0,3],[0,2,5,0,1],[4,2,4,4,2],[3,5,1,3,1]]\n",
    "moves = [1,5,3,5,1,2,1,4]\n",
    "result = 4"
   ]
  },
  {
   "cell_type": "code",
   "execution_count": 6,
   "metadata": {},
   "outputs": [
    {
     "data": {
      "text/plain": [
       "4"
      ]
     },
     "execution_count": 6,
     "metadata": {},
     "output_type": "execute_result"
    }
   ],
   "source": [
    "board = [[0,0,0,0,0],[0,0,1,0,3],[0,2,5,0,1],[4,2,4,4,2],[3,5,1,3,1]]\n",
    "moves = [1,5,3,5,1,2,1,4]\n",
    "\n",
    "def solution(board, moves):\n",
    "    answer = 0\n",
    "    box = []\n",
    "    \n",
    "    for n in moves:\n",
    "        for i, b in enumerate(board):\n",
    "            if b[n-1]:\n",
    "                box.append(b[n-1])\n",
    "                board[i][n-1] = 0\n",
    "                break\n",
    "                \n",
    "        if (len(box) > 1) and (box[-1] == box[-2]):\n",
    "            answer += 2\n",
    "            del(box[-2:])\n",
    "            \n",
    "    return answer\n",
    "\n",
    "solution(board, moves)"
   ]
  },
  {
   "cell_type": "code",
   "execution_count": 5,
   "metadata": {},
   "outputs": [
    {
     "data": {
      "text/plain": [
       "4"
      ]
     },
     "execution_count": 5,
     "metadata": {},
     "output_type": "execute_result"
    }
   ],
   "source": [
    "# deque를 사용한 방법\n",
    "board = [[0,0,0,0,0],[0,0,1,0,3],[0,2,5,0,1],[4,2,4,4,2],[3,5,1,3,1]]\n",
    "moves = [1,5,3,5,1,2,1,4]\n",
    "\n",
    "from collections import deque\n",
    "\n",
    "def solution(board, moves):\n",
    "    moves = deque(moves)\n",
    "    box = []\n",
    "    cnt = 0\n",
    "\n",
    "    while moves:\n",
    "        move = moves.popleft()\n",
    "\n",
    "        for i in range(len(board)):\n",
    "            doll = board[i][move-1]\n",
    "\n",
    "            if doll != 0:\n",
    "                board[i][move-1] = 0\n",
    "\n",
    "                if box and (box[-1] == doll):\n",
    "                    box.pop()\n",
    "                    cnt += 2\n",
    "                else:\n",
    "                    box.append(doll)\n",
    "                break\n",
    "    return cnt\n",
    "\n",
    "solution(board, moves)"
   ]
  },
  {
   "cell_type": "code",
   "execution_count": null,
   "metadata": {},
   "outputs": [],
   "source": [
    "board = [[0,0,0,0,0],[0,0,1,0,3],[0,2,5,0,1],[4,2,4,4,2],[3,5,1,3,1]]\n",
    "moves = [1,5,3,5,1,2,1,4]\n",
    "\n",
    "from collections import deque\n",
    "\n",
    "def solution(board, moves):\n",
    "    moves = deque(moves)\n",
    "    box = []\n",
    "    result = 0\n",
    "\n",
    "    while moves:\n",
    "        move = moves.popleft()\n",
    "\n",
    "        for i, b in enumerate(board):\n",
    "            doll = b[move-1]\n",
    "\n",
    "            if doll:\n",
    "                board[i][move-1] = 0\n",
    "\n",
    "                if box and box[-1] == doll :\n",
    "                    box.pop()\n",
    "                    result += 2\n",
    "                else:\n",
    "                    box.append(doll)\n",
    "                break\n",
    "\n",
    "    return result\n",
    "\n",
    "solution(board, moves)"
   ]
  },
  {
   "cell_type": "code",
   "execution_count": 7,
   "metadata": {},
   "outputs": [
    {
     "data": {
      "text/plain": [
       "4"
      ]
     },
     "execution_count": 7,
     "metadata": {},
     "output_type": "execute_result"
    }
   ],
   "source": [
    "# 정리\n",
    "board = [[0,0,0,0,0],[0,0,1,0,3],[0,2,5,0,1],[4,2,4,4,2],[3,5,1,3,1]]\n",
    "moves = [1,5,3,5,1,2,1,4]\n",
    "\n",
    "def solution(board, moves):\n",
    "    answer = 0\n",
    "    box = []\n",
    "    \n",
    "    for n in moves:\n",
    "        for i, b in enumerate(board):\n",
    "            if b[n-1]:\n",
    "                if box and box[-1] == b[n-1]:\n",
    "                    answer += 2\n",
    "                    box.pop()\n",
    "                else :\n",
    "                    box.append(b[n-1])\n",
    "                board[i][n-1] = 0\n",
    "                break\n",
    "            \n",
    "    return answer\n",
    "\n",
    "solution(board, moves)"
   ]
  }
 ],
 "metadata": {
  "kernelspec": {
   "display_name": "base",
   "language": "python",
   "name": "python3"
  },
  "language_info": {
   "codemirror_mode": {
    "name": "ipython",
    "version": 3
   },
   "file_extension": ".py",
   "mimetype": "text/x-python",
   "name": "python",
   "nbconvert_exporter": "python",
   "pygments_lexer": "ipython3",
   "version": "3.9.13"
  },
  "orig_nbformat": 4
 },
 "nbformat": 4,
 "nbformat_minor": 2
}
