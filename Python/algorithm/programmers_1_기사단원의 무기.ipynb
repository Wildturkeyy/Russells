{
 "cells": [
  {
   "cell_type": "code",
   "execution_count": null,
   "metadata": {},
   "outputs": [],
   "source": [
    "# 각 기사단의 각 기사에게 1 ~ number까지 번호가 지정되어 있음.\n",
    "# 각 기사는 기사 번호의 약수 개수에 해당하는 공격력을 가진 무기를 구매\n",
    "\n",
    "# 이웃나라와 협약으로 정해진 공격력 제한 수치가 3이고\n",
    "# 제한 수치를 초과하는 기사가 사용할 무기 수치가 2라면\n",
    "# 기사의 기사번호 약수 개수가 4인 기사는 무기 수치가 2인 무기 사용\n",
    "\n",
    "# 무기의 공격력 1당 1kg의 철이 필요\n",
    "# 무기점 주인이 무기를 모두 만들기 위해 필요한 철의 무게 return"
   ]
  },
  {
   "cell_type": "code",
   "execution_count": null,
   "metadata": {},
   "outputs": [],
   "source": [
    "# number = 기사단 인원수\n",
    "# limit = 협약 무기 수치\n",
    "# power = 초과 대상자 이용 가능 무기 수치"
   ]
  },
  {
   "cell_type": "code",
   "execution_count": 5,
   "metadata": {},
   "outputs": [],
   "source": [
    "number, limit, power = 5, 3, 2"
   ]
  },
  {
   "cell_type": "code",
   "execution_count": 35,
   "metadata": {},
   "outputs": [
    {
     "data": {
      "text/plain": [
       "[1, 2, 2, 3, 2]"
      ]
     },
     "execution_count": 35,
     "metadata": {},
     "output_type": "execute_result"
    }
   ],
   "source": [
    "# 기사 번호 순서로 약수 개수\n",
    "measure = list(map(lambda x : len(['_' for i in range(1, x+1) if x%i==0]), range(1,number+1)))\n",
    "measure"
   ]
  },
  {
   "cell_type": "code",
   "execution_count": 36,
   "metadata": {},
   "outputs": [
    {
     "data": {
      "text/plain": [
       "10"
      ]
     },
     "execution_count": 36,
     "metadata": {},
     "output_type": "execute_result"
    }
   ],
   "source": [
    "# 필요한 철의 무게\n",
    "sum(power if x > limit else x for x in measure)"
   ]
  },
  {
   "cell_type": "code",
   "execution_count": 37,
   "metadata": {},
   "outputs": [],
   "source": [
    "def solution(number, limit, power):\n",
    "    measure = list(map(lambda x : len(['_' for i in range(1, x+1) if x%i==0]), range(1, number+1)))\n",
    "\n",
    "    return sum(power if x > limit else x for x in measure)"
   ]
  },
  {
   "cell_type": "code",
   "execution_count": 38,
   "metadata": {},
   "outputs": [
    {
     "data": {
      "text/plain": [
       "10"
      ]
     },
     "execution_count": 38,
     "metadata": {},
     "output_type": "execute_result"
    }
   ],
   "source": [
    "number, limit, power = 5, 3, 2\n",
    "solution(number, limit, power)"
   ]
  },
  {
   "cell_type": "code",
   "execution_count": 39,
   "metadata": {},
   "outputs": [
    {
     "data": {
      "text/plain": [
       "21"
      ]
     },
     "execution_count": 39,
     "metadata": {},
     "output_type": "execute_result"
    }
   ],
   "source": [
    "number, limit, power = 10, 3, 2\n",
    "solution(number, limit, power)"
   ]
  },
  {
   "cell_type": "code",
   "execution_count": null,
   "metadata": {},
   "outputs": [],
   "source": [
    "# 프로그래머스에서 시간초과로 나옴..."
   ]
  },
  {
   "cell_type": "code",
   "execution_count": null,
   "metadata": {},
   "outputs": [],
   "source": []
  },
  {
   "cell_type": "code",
   "execution_count": 42,
   "metadata": {},
   "outputs": [],
   "source": [
    "def solution(number, limit, power):\n",
    "    measure = []\n",
    "    for n in range(1, number+1):\n",
    "        cnt = 0\n",
    "        for i in range(1, n+1):\n",
    "            if n%i==0:\n",
    "                cnt += 1\n",
    "        measure.append(cnt)\n",
    "\n",
    "    return sum(power if x > limit else x for x in measure)"
   ]
  },
  {
   "cell_type": "code",
   "execution_count": 43,
   "metadata": {},
   "outputs": [
    {
     "name": "stdout",
     "output_type": "stream",
     "text": [
      "[1, 2, 2, 3, 2]\n"
     ]
    },
    {
     "data": {
      "text/plain": [
       "10"
      ]
     },
     "execution_count": 43,
     "metadata": {},
     "output_type": "execute_result"
    }
   ],
   "source": [
    "number, limit, power = 5, 3, 2\n",
    "solution(number, limit, power)"
   ]
  },
  {
   "cell_type": "code",
   "execution_count": 44,
   "metadata": {},
   "outputs": [
    {
     "name": "stdout",
     "output_type": "stream",
     "text": [
      "[1, 2, 2, 3, 2, 4, 2, 4, 3, 4]\n"
     ]
    },
    {
     "data": {
      "text/plain": [
       "21"
      ]
     },
     "execution_count": 44,
     "metadata": {},
     "output_type": "execute_result"
    }
   ],
   "source": [
    "number, limit, power = 10, 3, 2\n",
    "solution(number, limit, power)"
   ]
  },
  {
   "cell_type": "code",
   "execution_count": null,
   "metadata": {},
   "outputs": [],
   "source": [
    "# 이거도 시간초과로 나옴...\n",
    "# 집에가서 다시 해봐야 할듯"
   ]
  }
 ],
 "metadata": {
  "kernelspec": {
   "display_name": "base",
   "language": "python",
   "name": "python3"
  },
  "language_info": {
   "codemirror_mode": {
    "name": "ipython",
    "version": 3
   },
   "file_extension": ".py",
   "mimetype": "text/x-python",
   "name": "python",
   "nbconvert_exporter": "python",
   "pygments_lexer": "ipython3",
   "version": "3.9.13"
  },
  "orig_nbformat": 4,
  "vscode": {
   "interpreter": {
    "hash": "a077222d77dfe082b8f1dd562ad70e458ac2ab76993a0b248ab0476e32e9e8dd"
   }
  }
 },
 "nbformat": 4,
 "nbformat_minor": 2
}
