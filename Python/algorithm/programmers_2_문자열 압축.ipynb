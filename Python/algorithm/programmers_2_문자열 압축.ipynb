{
 "cells": [
  {
   "cell_type": "markdown",
   "metadata": {},
   "source": [
    "프로그래머스 : 문자열 압축\n",
    "https://school.programmers.co.kr/learn/courses/30/lessons/60057"
   ]
  },
  {
   "cell_type": "code",
   "execution_count": null,
   "metadata": {},
   "outputs": [],
   "source": [
    "# '문자열 압축\n",
    "# 문자열에서 같은 값이 연속해서 나타나는 것을 그 문자의 개수와 반복되는 값으로 표현하여 더 짧은 문자열로 줄여서 표현하는 알고리즘"
   ]
  },
  {
   "cell_type": "code",
   "execution_count": null,
   "metadata": {},
   "outputs": [],
   "source": [
    "s = \"xababcdcdababcdcd\"\n",
    "box = []\n",
    "for i in range(len(s)//2):\n",
    "    s = \"xababcdcdababcdcd\"\n",
    "    result = ''\n",
    "    cnt = 1\n",
    "    while len(s):\n",
    "        alpha = s[:i+1]\n",
    "        s = s[i+1:]\n",
    "        if alpha == s[:i+1]:\n",
    "            cnt += 1\n",
    "        else:\n",
    "            if cnt == 1:\n",
    "                result += alpha\n",
    "            else : \n",
    "                result += (str(cnt) + alpha)\n",
    "            cnt = 1\n",
    "    result += s\n",
    "    box.append(len(result))\n",
    "print(min(box))"
   ]
  },
  {
   "cell_type": "code",
   "execution_count": null,
   "metadata": {},
   "outputs": [],
   "source": [
    "# 위에서 만든 식을 def로 정의\n",
    "\n",
    "s = \"ababcdcdababcdcd\"\n",
    "def solution(sentence):\n",
    "    box = []\n",
    "    for i in range(len(sentence)//2):\n",
    "        s = sentence\n",
    "        result = ''\n",
    "        cnt = 1\n",
    "        while len(s):\n",
    "            alpha = s[:i+1]\n",
    "            s = s[i+1:]\n",
    "            if alpha == s[:i+1]:\n",
    "                cnt += 1\n",
    "            else:\n",
    "                if cnt == 1:\n",
    "                    result += alpha\n",
    "                else : \n",
    "                    result += (str(cnt) + alpha)\n",
    "                cnt = 1\n",
    "        result += s\n",
    "        box.append(len(result))\n",
    "    return min(box)\n",
    "solution(s)"
   ]
  },
  {
   "cell_type": "code",
   "execution_count": null,
   "metadata": {},
   "outputs": [],
   "source": [
    "s = \"ababcdcdababcdcd\"\n",
    "\n",
    "def solution(s):\n",
    "    answer = len(s)\n",
    "    unit = 1\n",
    "    while unit <= len(s)//2:\n",
    "        word = '' \n",
    "        count = 1\n",
    "        comp = s[:unit]\n",
    "        for i in range(unit, len(s), unit):\n",
    "            if comp == s[i:i+unit]:\n",
    "                count += 1\n",
    "            else:\n",
    "                if count == 1:\n",
    "                    word += comp\n",
    "                else:\n",
    "                    word += str(count) + comp\n",
    "\n",
    "                comp = s[i:i+unit]\n",
    "                count = 1\n",
    "        if count == 1:\n",
    "            word += comp\n",
    "        else:\n",
    "            word += str(count) + comp\n",
    "        \n",
    "        unit += 1\n",
    "        answer = min(len(word), answer)\n",
    "    return answer\n"
   ]
  },
  {
   "cell_type": "code",
   "execution_count": null,
   "metadata": {},
   "outputs": [],
   "source": [
    "s = \"abcabcdede\"\n",
    "def solution(sentence):\n",
    "    answer = len(sentence)\n",
    "    for unit in range(1, (len(sentence)//2)+1):\n",
    "        word = ''\n",
    "        cnt = 1\n",
    "        s = sentence\n",
    "        while len(s) >= unit :\n",
    "            comp = s[:unit]\n",
    "            s = s[unit:]\n",
    "            if comp == s[:unit]:\n",
    "                cnt += 1\n",
    "            else:\n",
    "                if cnt == 1:\n",
    "                    word += comp\n",
    "                else :\n",
    "                    word += str(cnt) + comp\n",
    "                cnt = 1    \n",
    "        word += s\n",
    "        answer = min(answer, len(word))\n",
    "    return answer\n",
    "solution(s)\n"
   ]
  }
 ],
 "metadata": {
  "kernelspec": {
   "display_name": "base",
   "language": "python",
   "name": "python3"
  },
  "language_info": {
   "codemirror_mode": {
    "name": "ipython",
    "version": 3
   },
   "file_extension": ".py",
   "mimetype": "text/x-python",
   "name": "python",
   "nbconvert_exporter": "python",
   "pygments_lexer": "ipython3",
   "version": "3.8.16"
  },
  "orig_nbformat": 4
 },
 "nbformat": 4,
 "nbformat_minor": 2
}
