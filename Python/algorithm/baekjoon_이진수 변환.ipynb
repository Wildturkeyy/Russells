{
 "cells": [
  {
   "cell_type": "markdown",
   "metadata": {},
   "source": [
    "백준 : 이진수 변환\n",
    "https://www.acmicpc.net/problem/10829"
   ]
  },
  {
   "cell_type": "code",
   "execution_count": null,
   "metadata": {},
   "outputs": [],
   "source": [
    "# 자연수 N이 주어졌을 때 N을 이진수로 바꾸어서 출력\n",
    "\n",
    "N = int(input())\n",
    "print(format(N, 'b'))"
   ]
  }
 ],
 "metadata": {
  "kernelspec": {
   "display_name": "base",
   "language": "python",
   "name": "python3"
  },
  "language_info": {
   "name": "python",
   "version": "3.9.13"
  },
  "orig_nbformat": 4
 },
 "nbformat": 4,
 "nbformat_minor": 2
}
