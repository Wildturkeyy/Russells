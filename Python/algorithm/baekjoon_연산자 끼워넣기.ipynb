{
 "cells": [
  {
   "cell_type": "markdown",
   "metadata": {},
   "source": [
    "백준\n",
    "https://www.acmicpc.net/problem/14888"
   ]
  },
  {
   "cell_type": "code",
   "execution_count": null,
   "metadata": {},
   "outputs": [],
   "source": [
    "# if문 사용하여 list에 값을 넣고 최소값과 최대값 뽑아내기\n",
    "\n",
    "nums = [1, 2, 3, 4, 5, 6]\n",
    "mul = [2, 1, 1, 1]\n",
    "\n",
    "n = int(input())\n",
    "nums = list(map(int, input().split()))\n",
    "mul = list(map(int, input().split()))\n",
    "\n",
    "mul_list = []\n",
    "for i in range(4):\n",
    "    mul_list += [i]*mul[i]\n",
    "answer_list = []\n",
    "from itertools import permutations\n",
    "\n",
    "per_list = set(permutations(mul_list, len(mul_list)))\n",
    "for per in per_list:\n",
    "    answer = nums[0]\n",
    "    for x, y in zip(nums[1:], per):\n",
    "        if y == 0 :\n",
    "            answer += x\n",
    "        elif y == 1:\n",
    "            answer -= x\n",
    "        elif y == 2:\n",
    "            answer *= x\n",
    "        else:\n",
    "            if answer < 0 :\n",
    "                answer = abs(answer)\n",
    "                answer //= x\n",
    "                answer = -answer\n",
    "            else:\n",
    "                answer //= x\n",
    "    answer_list.append(answer)\n",
    "\n",
    "print(max(answer_list))\n",
    "print(min(answer_list))"
   ]
  },
  {
   "cell_type": "code",
   "execution_count": null,
   "metadata": {},
   "outputs": [],
   "source": [
    "# max, min 값을 처음에 0.5로 잡고 max, min값 바꿔주기 \n",
    "# 이 방법이 더 오래걸림\n",
    "\n",
    "n = int(input())\n",
    "nums = list(map(int, input().split()))\n",
    "mul = list(map(int, input().split()))\n",
    "\n",
    "mul_list = []\n",
    "for i in range(4):\n",
    "    mul_list += [i]*mul[i]\n",
    "answer_list = []\n",
    "max_value, min_value = 0.5, 0.5\n",
    "from itertools import permutations\n",
    "\n",
    "per_list = set(permutations(mul_list, len(mul_list)))\n",
    "for per in per_list:\n",
    "    answer = nums[0]\n",
    "    for x, y in zip(nums[1:], per):\n",
    "        if y == 0 :\n",
    "            answer += x\n",
    "        elif y == 1:\n",
    "            answer -= x\n",
    "        elif y == 2:\n",
    "            answer *= x\n",
    "        else:\n",
    "            answer /= x\n",
    "            answer = int(answer)\n",
    "    if (max_value == 0.5) and (min_value == 0.5):\n",
    "        max_value, min_value = answer, answer\n",
    "    else:\n",
    "        max_value = max(max_value, answer)\n",
    "        min_value = min(min_value, answer)\n",
    "\n",
    "print(max_value)\n",
    "print(min_value)\n"
   ]
  },
  {
   "cell_type": "code",
   "execution_count": null,
   "metadata": {},
   "outputs": [],
   "source": [
    "from itertools import permutations\n",
    "\n",
    "n = int(input())\n",
    "nums = list(map(int, input().split()))\n",
    "a = list(map(int, input().split()))\n",
    "\n",
    "an_list = []\n",
    "for p in set(permutations('+'*a[0]+'-'*a[1]+'*'*a[2]+'/'*a[3])):\n",
    "    r = nums[0]\n",
    "    for i in range(1, n):\n",
    "        r = {'+':r+nums[i], '-':r-nums[i], '*':r*nums[i], '/': int(r/nums[i])}[p[i-1]]\n",
    "    an_list.append(r)\n",
    "\n",
    "print(max(an_list))\n",
    "print(min(an_list))"
   ]
  }
 ],
 "metadata": {
  "kernelspec": {
   "display_name": "base",
   "language": "python",
   "name": "python3"
  },
  "language_info": {
   "codemirror_mode": {
    "name": "ipython",
    "version": 3
   },
   "file_extension": ".py",
   "mimetype": "text/x-python",
   "name": "python",
   "nbconvert_exporter": "python",
   "pygments_lexer": "ipython3",
   "version": "3.9.13"
  },
  "orig_nbformat": 4
 },
 "nbformat": 4,
 "nbformat_minor": 2
}
