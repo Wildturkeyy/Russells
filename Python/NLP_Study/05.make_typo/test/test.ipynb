{
 "cells": [
  {
   "cell_type": "code",
   "execution_count": 1,
   "metadata": {},
   "outputs": [],
   "source": [
    "CHO = (\n",
    "    'ㄱ', 'ㄲ', 'ㄴ', 'ㄷ', 'ㄸ', 'ㄹ', 'ㅁ', 'ㅂ', 'ㅃ', 'ㅅ',\n",
    "    'ㅆ', 'ㅇ', 'ㅈ', 'ㅉ', 'ㅊ', 'ㅋ', 'ㅌ', 'ㅍ', 'ㅎ'\n",
    ")\n",
    "\n",
    "JUNG = (\n",
    "    'ㅏ', 'ㅐ', 'ㅑ', 'ㅒ', 'ㅓ', 'ㅔ', 'ㅕ', 'ㅖ', 'ㅗ', 'ㅘ',\n",
    "    'ㅙ', 'ㅚ', 'ㅛ', 'ㅜ', 'ㅝ', 'ㅞ', 'ㅟ', 'ㅠ', 'ㅡ', 'ㅢ', 'ㅣ'\n",
    ")\n",
    "\n",
    "JONG = (\n",
    "    '', 'ㄱ', 'ㄲ', 'ㄳ', 'ㄴ', 'ㄵ', 'ㄶ', 'ㄷ', 'ㄹ', 'ㄺ',\n",
    "    'ㄻ', 'ㄼ', 'ㄽ', 'ㄾ', 'ㄿ', 'ㅀ', 'ㅁ', 'ㅂ', 'ㅄ', 'ㅅ',\n",
    "    'ㅆ', 'ㅇ', 'ㅈ', 'ㅊ', 'ㅋ', 'ㅌ', 'ㅍ', 'ㅎ'\n",
    ")\n",
    "\n",
    "FIRST_HANGUL_UNICODE = 0xAC00  # '가'\n",
    "LAST_HANGUL_UNICODE = 0xD7A3  # '힣'\n",
    "DEFAULT_COMPOSE_CODE = 'ᴥ'\n",
    "\n",
    "# EOJEOL_TYPO = {'완전':'오나전', '뭘': '무러', '했는데':'햇는ㄷ', '처럼':'철머'}\n",
    "TYPO = {\n",
    "    'ㄱ' : ['ㅅ', 'ㄷ', 'ㄹ'], 'ㄲ' : ['ㄱ', 'ㅅ', 'ㅆ'], 'ㅂ' : ['ㅈ', 'ㅁ'], 'ㅃ' : ['ㅂ', 'ㅈ', 'ㅉ', 'ㅁ'], 'ㅈ' : ['ㅂ', 'ㄷ'], 'ㅉ' : ['ㅈ', 'ㅃ', 'ㄷ', 'ㄸ', 'ㅂ', 'ㄴ'],\n",
    "    'ㄷ' : ['', 'ㅈ', 'ㄱ'], 'ㄸ' : ['ㄷ', 'ㄱ', 'ㄲ'], 'ㅅ': ['ㄱ', 'ㅎ'], 'ㅆ' : ['ㅅ', 'ㄱ', 'ㄲ', 'ㅎ'],\n",
    "    'ㅁ' : ['ㅂ','ㄴ','ㅋ'], 'ㄴ' : ['ㅈ', 'ㅁ', 'ㅇ'], 'ㅇ' : ['ㄷ', '', 'ㄹ', 'ㄴ'], 'ㄹ' : ['ㅎ', 'ㄱ'], 'ㅎ' : ['ㄹ', 'ㅗ'],\n",
    "    'ㅋ' : ['ㅁ', 'ㅌ'], 'ㅌ' : ['ㅋ', 'ㅇ', 'ㅊ'], 'ㅊ' : ['ㅍ', 'ㅌ', 'ㅇ'], 'ㅍ' : ['ㅠ', 'ㅊ', 'ㅎ'],\n",
    "    'ㅛ' : ['ㅕ', 'ㅗ'], 'ㅕ' : ['ㅛ', 'ㅑ', 'ㅓ'], 'ㅑ' : ['ㅕ', 'ㅐ', 'ㅏ'], 'ㅐ' : ['ㅑ', 'ㅔ', 'ㅒ'], 'ㅒ' : ['ㅐ', 'ㅖ', 'ㅔ'], 'ㅔ' : ['', 'ㅖ', 'ㅐ', 'ㅒ'], 'ㅖ' : ['ㅔ', 'ㅖ', 'ㅐ'],\n",
    "    'ㅗ' : ['ㅓ', 'ㅛ', 'ㅜ'], 'ㅓ' : ['ㅕ', 'ㅗ', 'ㅏ'], 'ㅏ' : ['ㅓ', 'ㅑ', 'ㅣ'], 'ㅣ' : ['', 'ㅏ'], 'ㅠ' : ['ㅜ','ㅍ'], 'ㅜ' : ['ㅠ', 'ㅡ'], 'ㅡ' : ['', 'ㅜ'],\n",
    "    'ㄳ' : ['ㄱ', 'ㅅ'], 'ㄵ' : ['ㄴ', 'ㅈ'], 'ㄶ' : ['ㄴ', 'ㅎ'], 'ㄺ' : ['ㄹ', 'ㄱ'], 'ㄻ' : ['ㄹ', 'ㅁ'], 'ㄼ' : ['ㄹ', 'ㅂ'],\n",
    "    'ㄽ' : ['ㄹ', 'ㅅ'], 'ㄾ' : ['ㄹ', 'ㅌ'], 'ㄿ' : ['ㄹ', 'ㅍ'], 'ㅀ' : ['ㄹ', 'ㅎ'], 'ㅄ' : ['ㅂ', 'ㅅ'],\n",
    "    'ㅘ' : ['ㅗ', 'ㅏ'], 'ㅙ' : ['ㅗ', 'ㅐ', 'ㅚ'], 'ㅚ' : ['ㅗ', 'ㅣ', 'ㅙ'], 'ㅝ' : [ 'ㅜ', 'ㅓ'], 'ㅞ' : ['ㅜ', 'ㅔ'], 'ㅟ' : ['ㅜ', 'ㅣ'], 'ㅢ' : ['ㅡ', 'ㅣ']\n",
    "        }\n",
    "\n",
    "ssang_jaeum = ('ㄲ', 'ㄸ', 'ㅃ', 'ㅆ', 'ㅉ')\n",
    "\n",
    "ggub_jong = {'ㄳ' : ('ㄱ', 'ㅅ'), 'ㄵ' : ('ㄴ', 'ㅈ'), 'ㄶ' : ('ㄴ', 'ㅎ'), 'ㄺ' : ('ㄹ', 'ㄱ'), 'ㄻ' : ('ㄹ', 'ㅁ'), 'ㄼ' : ('ㄹ', 'ㅂ'),\n",
    "             'ㄽ' : ('ㄹ', 'ㅅ'), 'ㄾ' : ('ㄹ', 'ㅌ'), 'ㄿ' : ('ㄹ', 'ㅍ'), 'ㅀ' : ('ㄹ', 'ㅎ'), 'ㅄ' : ('ㅂ', 'ㅅ')}\n",
    "\n",
    "ggub_jung = { 'ㅘ' : ('ㅗ', 'ㅏ'), 'ㅙ' : ('ㅗ', 'ㅐ'), 'ㅚ' : ('ㅗ', 'ㅣ'), 'ㅝ' : ('ㅜ', 'ㅓ'), 'ㅞ' : ('ㅜ', 'ㅔ'), 'ㅟ' : ('ㅜ', 'ㅣ'), 'ㅢ' : ('ㅡ', 'ㅣ')}\n",
    "\n",
    "reversed_ggub_jong = dict(map(reversed, ggub_jong.items()))\n",
    "\n",
    "reversed_ggub_jung = dict(map(reversed, ggub_jung.items()))"
   ]
  },
  {
   "cell_type": "code",
   "execution_count": 2,
   "metadata": {},
   "outputs": [],
   "source": [
    "import re\n",
    "\n",
    "def divide_jamo(emjeol):\n",
    "    if re.match(r'[ㄱ_ㅎ|가-힣]', emjeol):\n",
    "        chosung_idx, junsung_idx, jongsung_idx = get_unicode_number(emjeol)\n",
    "        return CHO[chosung_idx] + JUNG[junsung_idx] + JONG[jongsung_idx]\n",
    "\n",
    "    else : \n",
    "        return emjeol\n",
    "    \n",
    "def get_unicode_number(emjeol):\n",
    "    emjeol_code = ord(emjeol)\n",
    "    chosung_index = int((emjeol_code - 44032) / 588)\n",
    "    jungsung_index = int((emjeol_code - 44032 - (chosung_index * 588)) / 28)\n",
    "    jongsung_index = int((emjeol_code - 44032 - (chosung_index * 588) - (jungsung_index * 28)))\n",
    "    return chosung_index, jungsung_index, jongsung_index\n",
    "\n",
    "def get_hangeul_unicode(chosung_index, jungsung_index, jongsung_index):\n",
    "    return((chosung_index * 588) + (jungsung_index * 28) + (jongsung_index)) + 44032"
   ]
  },
  {
   "cell_type": "code",
   "execution_count": 3,
   "metadata": {},
   "outputs": [],
   "source": [
    "import random\n",
    "\n",
    "def typo_change_jamo(jamo, convert):\n",
    "    for i, x in enumerate(jamo):\n",
    "        if random.random() > 0.9:\n",
    "            idx = random.randrange(0, len(TYPO[x]))\n",
    "            jamo = jamo[:i] + TYPO[x][idx] + jamo[i+1:]\n",
    "            convert = False\n",
    "    return jamo, convert\n",
    "        \n",
    "def typo_position_convert(jamo, convert):\n",
    "    if random.random() > 0.9:\n",
    "        idx = random.randrange(0, len(jamo)-1)\n",
    "        if jamo[idx+1] in ggub_jong:\n",
    "            jamo = jamo[:idx] + ggub_jong[jamo[idx+1]][0] + jamo[idx] + ggub_jong[jamo[idx+1]][1]\n",
    "        else :\n",
    "            jamo = jamo[:idx] + jamo[idx+1] + jamo[idx]\n",
    "        convert = False\n",
    "    return jamo, convert"
   ]
  },
  {
   "cell_type": "code",
   "execution_count": null,
   "metadata": {},
   "outputs": [],
   "source": []
  },
  {
   "cell_type": "code",
   "execution_count": 4,
   "metadata": {},
   "outputs": [
    {
     "data": {
      "text/plain": [
       "'학교애는'"
      ]
     },
     "execution_count": 4,
     "metadata": {},
     "output_type": "execute_result"
    }
   ],
   "source": [
    "import random\n",
    "\n",
    "test_txt = '학교에는'\n",
    "\n",
    "while True:\n",
    "    cnt = 0\n",
    "    emjeol_list = []\n",
    "    for emjeol in test_txt:\n",
    "        jamo = divide_jamo(emjeol)\n",
    "        for i, x in enumerate(jamo):\n",
    "            if random.random() >= 0.9:\n",
    "                idx = random.randrange(0,len(TYPO[x]))\n",
    "                jamo = jamo[:i] + TYPO[x][idx] + jamo[i+1:]\n",
    "                cnt += 1\n",
    "        emjeol_list.append(jamo)\n",
    "    if cnt:\n",
    "        break\n",
    "typo_txt = ''\n",
    "for emjeol in emjeol_list:\n",
    "    jongsung_index = 0\n",
    "    try:\n",
    "        chosung_index = CHO.index(emjeol[0])\n",
    "        jungsung_index = JUNG.index(emjeol[1])\n",
    "        jongsung_index = JONG.index(emjeol[2])\n",
    "    except:\n",
    "        pass\n",
    "    typo_txt += chr(get_hangeul_unicode(chosung_index, jungsung_index, jongsung_index))\n",
    "\n",
    "typo_txt"
   ]
  },
  {
   "cell_type": "code",
   "execution_count": 5,
   "metadata": {},
   "outputs": [
    {
     "data": {
      "text/plain": [
       "'ㅎㅏㄱᴥㄱㅕᴥㅇㅔᴥㄴㅡㄴ'"
      ]
     },
     "execution_count": 5,
     "metadata": {},
     "output_type": "execute_result"
    }
   ],
   "source": [
    "import random\n",
    "\n",
    "test_txt = '학교에는'\n",
    "\n",
    "while True:\n",
    "    cnt = 0\n",
    "    emjeol_list = []\n",
    "    for emjeol in test_txt:\n",
    "        jamo = divide_jamo(emjeol)\n",
    "        for i, x in enumerate(jamo):\n",
    "            if random.random() >= 0.9:\n",
    "                idx = random.randrange(0,len(TYPO[x]))\n",
    "                jamo = jamo[:i] + TYPO[x][idx] + jamo[i+1:]\n",
    "                cnt += 1\n",
    "        emjeol_list.append(jamo)\n",
    "    if cnt:\n",
    "        break\n",
    "\n",
    "emjeol_jamo = DEFAULT_COMPOSE_CODE.join(emjeol_list)\n",
    "emjeol_jamo"
   ]
  },
  {
   "cell_type": "code",
   "execution_count": 6,
   "metadata": {},
   "outputs": [],
   "source": [
    "typo_jamo = 'ㅎㅏㄱᴥㄱㅛᴥㅔᴥㄴㅡㄴ'"
   ]
  },
  {
   "cell_type": "markdown",
   "metadata": {},
   "source": [
    "겹받침 겹모음.... 만들기 추가"
   ]
  },
  {
   "cell_type": "markdown",
   "metadata": {},
   "source": [
    "새 노트"
   ]
  },
  {
   "cell_type": "code",
   "execution_count": null,
   "metadata": {},
   "outputs": [],
   "source": []
  },
  {
   "cell_type": "code",
   "execution_count": null,
   "metadata": {},
   "outputs": [],
   "source": []
  }
 ],
 "metadata": {
  "kernelspec": {
   "display_name": "Python 3",
   "language": "python",
   "name": "python3"
  },
  "language_info": {
   "codemirror_mode": {
    "name": "ipython",
    "version": 3
   },
   "file_extension": ".py",
   "mimetype": "text/x-python",
   "name": "python",
   "nbconvert_exporter": "python",
   "pygments_lexer": "ipython3",
   "version": "3.11.3"
  },
  "orig_nbformat": 4
 },
 "nbformat": 4,
 "nbformat_minor": 2
}
