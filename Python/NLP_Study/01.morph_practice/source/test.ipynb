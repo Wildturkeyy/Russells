{
 "cells": [
  {
   "cell_type": "code",
   "execution_count": 5,
   "metadata": {},
   "outputs": [
    {
     "name": "stdout",
     "output_type": "stream",
     "text": [
      "부곡및 이천의 관광 호텔과 여관들, 그리고 척산온천 지역의 척산온천 휴양촌, 설악온천장 등 장급여관들도 보름전쯤 예약을 마쳤다.\n",
      "이천설봉호텔 라승미씨는 \"굳이 온천욕을 하려면 당일 코스로 와서 대중 온천 목욕탕을 이용하는 방법밖에 없다\"고 충고한다.\n"
     ]
    }
   ],
   "source": [
    "import os\n",
    "\n",
    "file = open('./test.txt', 'r', encoding='UTF-8')\n",
    "\n",
    "while True :\n",
    "    line = file.readline()\n",
    "\n",
    "    if not line:\n",
    "        break\n",
    "    line = line.strip()\n",
    "\n",
    "    if line == None:\n",
    "        continue\n",
    "    if line[:3] == '#%#':\n",
    "        print(line[4:])"
   ]
  },
  {
   "cell_type": "code",
   "execution_count": 5,
   "metadata": {},
   "outputs": [
    {
     "name": "stdout",
     "output_type": "stream",
     "text": [
      "{'SP': {'.': 1, ',': 2}, 'NNG': {'여관': 1, '인물': 2, '과일': 2}, 'XSN': {'들': 3}}\n",
      "{'과일': 2, '인물': 2, '여관': 1}\n",
      "{',': 2, '.': 1}\n",
      "{'들': 3}\n"
     ]
    },
    {
     "data": {
      "text/plain": [
       "{'NNG': {'과일': 2, '인물': 2, '여관': 1}, 'SP': {',': 2, '.': 1}, 'XSN': {'들': 3}}"
      ]
     },
     "execution_count": 5,
     "metadata": {},
     "output_type": "execute_result"
    }
   ],
   "source": [
    "from module import container_util\n",
    "\n",
    "def parsing_ma_result(ma_result_str: str) :\n",
    "        morph_lex_list = []\n",
    "        morph_tag_list = []\n",
    "\n",
    "        morph_units = ma_result_str.split(' + ')\n",
    "        for morph_unit in morph_units :\n",
    "            morph_lex, morph_tag = morph_unit.split('/')\n",
    "            morph_lex_list.append(morph_lex)\n",
    "            morph_tag_list.append(morph_tag)\n",
    "        \n",
    "        return morph_lex_list, morph_tag_list\n",
    "\n",
    "test_dict = {}\n",
    "test_dict['SP'] = {}\n",
    "test_dict['SP']['.'] = 1\n",
    "\n",
    "ma_result_str = '여관/NNG + 들/XSN + ,/SP + 들/XSN + 들/XSN + 인물/NNG + 인물/NNG + 과일/NNG + 과일/NNG'\n",
    "lex_list, tag_list = parsing_ma_result(ma_result_str)\n",
    "for lex, tag in zip(lex_list, tag_list):\n",
    "    if tag not in test_dict:\n",
    "            test_dict[tag] = {}\n",
    "    \n",
    "    container_util.add_str_int(test_dict[tag], lex, 1)\n",
    "\n",
    "test_dict['SP'][','] += 1\n",
    "print(test_dict)\n",
    "\n",
    "test_dict = container_util.sorted_dict_key(test_dict, False)\n",
    "for key in test_dict:\n",
    "    test_dict[key] = container_util.sorted_dict(test_dict[key])\n",
    "    print(test_dict[key])\n",
    "test_dict  \n"
   ]
  },
  {
   "cell_type": "code",
   "execution_count": 25,
   "metadata": {},
   "outputs": [
    {
     "data": {
      "text/plain": [
       "'32'"
      ]
     },
     "execution_count": 25,
     "metadata": {},
     "output_type": "execute_result"
    }
   ],
   "source": [
    "r = 'd/32'\n",
    "r.rsplit('/')[-1]"
   ]
  },
  {
   "cell_type": "code",
   "execution_count": 2,
   "metadata": {},
   "outputs": [
    {
     "name": "stdout",
     "output_type": "stream",
     "text": [
      "1\n",
      "a\n",
      "a\n",
      "d\n",
      "f\n",
      "\n",
      "2\n",
      "b\n",
      "\n",
      "3\n",
      "c\n",
      "e\n",
      "r\n",
      "\n"
     ]
    }
   ],
   "source": [
    "a = [1, 2, 3]\n",
    "b = ['aadf', 'b', 'cer']\n",
    "\n",
    "for x,y in zip(a,b):\n",
    "    print(x)\n",
    "    for i in y:\n",
    "        print(i)\n",
    "    print()"
   ]
  }
 ],
 "metadata": {
  "kernelspec": {
   "display_name": "base",
   "language": "python",
   "name": "python3"
  },
  "language_info": {
   "codemirror_mode": {
    "name": "ipython",
    "version": 3
   },
   "file_extension": ".py",
   "mimetype": "text/x-python",
   "name": "python",
   "nbconvert_exporter": "python",
   "pygments_lexer": "ipython3",
   "version": "3.9.13"
  },
  "orig_nbformat": 4
 },
 "nbformat": 4,
 "nbformat_minor": 2
}
