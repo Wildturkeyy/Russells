{
 "cells": [
  {
   "cell_type": "code",
   "execution_count": null,
   "metadata": {},
   "outputs": [],
   "source": [
    "word = '학교에서'\n",
    "for w in word[::-1]:\n",
    "    print(w)\n"
   ]
  },
  {
   "cell_type": "code",
   "execution_count": 5,
   "metadata": {},
   "outputs": [
    {
     "data": {
      "text/plain": [
       "'ㄸㅐㅇᴥㄸㅐㅇᴥ! ㅋᴥㅋᴥ'"
      ]
     },
     "execution_count": 5,
     "metadata": {},
     "output_type": "execute_result"
    }
   ],
   "source": [
    "import hgtk\n",
    "\n",
    "# print(hgtk.letter.decompose('감'))\n",
    "# print(hgtk.letter.compose('ㄱ','ㅏ','ㅁ'))\n",
    "\n",
    "hgtk.text.decompose('땡땡! ㅋㅋ')"
   ]
  },
  {
   "cell_type": "code",
   "execution_count": 9,
   "metadata": {},
   "outputs": [
    {
     "name": "stdout",
     "output_type": "stream",
     "text": [
      "45208\n",
      "yes\n"
     ]
    }
   ],
   "source": [
    "CHO = (\n",
    "    u'ㄱ', u'ㄲ', u'ㄴ', u'ㄷ', u'ㄸ', u'ㄹ', u'ㅁ', u'ㅂ', u'ㅃ', u'ㅅ',\n",
    "    u'ㅆ', u'ㅇ', u'ㅈ', u'ㅉ', u'ㅊ', u'ㅋ', u'ㅌ', u'ㅍ', u'ㅎ'\n",
    ")\n",
    "\n",
    "JOONG = (\n",
    "    u'ㅏ', u'ㅐ', u'ㅑ', u'ㅒ', u'ㅓ', u'ㅔ', u'ㅕ', u'ㅖ', u'ㅗ', u'ㅘ',\n",
    "    u'ㅙ', u'ㅚ', u'ㅛ', u'ㅜ', u'ㅝ', u'ㅞ', u'ㅟ', u'ㅠ', u'ㅡ', u'ㅢ', u'ㅣ'\n",
    ")\n",
    "\n",
    "JONG = (\n",
    "    u'', u'ㄱ', u'ㄲ', u'ㄳ', u'ㄴ', u'ㄵ', u'ㄶ', u'ㄷ', u'ㄹ', u'ㄺ',\n",
    "    u'ㄻ', u'ㄼ', u'ㄽ', u'ㄾ', u'ㄿ', u'ㅀ', u'ㅁ', u'ㅂ', u'ㅄ', u'ㅅ',\n",
    "    u'ㅆ', u'ㅇ', u'ㅈ', u'ㅊ', u'ㅋ', u'ㅌ', u'ㅍ', u'ㅎ'\n",
    ")\n",
    "\n",
    "FIRST_HANGUL_UNICODE = 0xAC00  # '가'\n",
    "LAST_HANGUL_UNICODE = 0xD7A3  # '힣'\n",
    "\n",
    "hangeul_letter = '나'\n",
    "for han in hangeul_letter:\n",
    "    code = ord(han)\n",
    "    print(code)\n",
    "    if (FIRST_HANGUL_UNICODE <= code) and (code <= LAST_HANGUL_UNICODE):\n",
    "        print('yes')\n",
    "\n"
   ]
  },
  {
   "cell_type": "code",
   "execution_count": 18,
   "metadata": {},
   "outputs": [
    {
     "name": "stdout",
     "output_type": "stream",
     "text": [
      "54633\n",
      "ㅎ 18\n",
      "ㅏ 0\n",
      "ㅂ 17\n"
     ]
    }
   ],
   "source": [
    "import re\n",
    "\n",
    "word = '합'\n",
    "match_result = re.match(r'[ㄱ-ㅎ|가-힣]+', word)\n",
    "\n",
    "if match_result:\n",
    "    word_code = ord(word)\n",
    "    print(word_code)\n",
    "    chosung_index = int((word_code - 44032) / 588)\n",
    "    jungsung_index = int((word_code - 44032 - (chosung_index * 588)) / 28)\n",
    "    jongsung_index = int((word_code - 44032 - (chosung_index * 588) - (jungsung_index * 28)))\n",
    "else:\n",
    "    print('not matched')\n",
    "\n",
    "print(CHO[chosung_index], chosung_index)\n",
    "print(JOONG[jungsung_index], jungsung_index)\n",
    "print(JONG[jongsung_index], jongsung_index)"
   ]
  },
  {
   "cell_type": "code",
   "execution_count": 19,
   "metadata": {},
   "outputs": [
    {
     "data": {
      "text/plain": [
       "'합'"
      ]
     },
     "execution_count": 19,
     "metadata": {},
     "output_type": "execute_result"
    }
   ],
   "source": [
    "def get_unicode_number(chosung_index, junsung_index, jongsung_index):\n",
    "    return((chosung_index * 588) + (junsung_index * 28) + (jongsung_index)) + 44032\n",
    "\n",
    "uni = get_unicode_number(18, 0, 17)\n",
    "chr(uni)"
   ]
  },
  {
   "cell_type": "code",
   "execution_count": 37,
   "metadata": {},
   "outputs": [
    {
     "name": "stdout",
     "output_type": "stream",
     "text": [
      "지원이는?? \n"
     ]
    }
   ],
   "source": [
    "josa_set = set()\n",
    "eomi_set = set()\n",
    "\n",
    "FIRST_HANGUL_UNICODE = 0xAC00  # '가'\n",
    "LAST_HANGUL_UNICODE = 0xD7A3  # '힣'\n",
    "\n",
    "josa_file = open('../resources/JOSA.TXT', 'r', encoding='EUC-KR')\n",
    "\n",
    "while True:\n",
    "    line = josa_file.readline()\n",
    "    if not line:\n",
    "        break\n",
    "    line = line.strip()\n",
    "    josa_set.add(line)\n",
    "\n",
    "eomi_file = open('../resources/EOMI.TXT', 'r', encoding='EUC-KR')\n",
    "\n",
    "while True:\n",
    "    line = eomi_file.readline()\n",
    "    if not line:\n",
    "        break\n",
    "    line = line.strip()\n",
    "    eomi_set.add(line)\n",
    "\n",
    "def divide_josa_eomi(eojeol):\n",
    "    index = len(eojeol)\n",
    "    for idx in range(len(eojeol)-1, -1, -1):\n",
    "        if eojeol[idx:] in josa_set or eojeol[idx:] in eomi_set:\n",
    "            index = idx\n",
    "    return eojeol[:index], eojeol[index:]\n",
    "\n",
    "\n",
    "def jamo_decompose(emjeol):\n",
    "    if re.match(r'[ㄱ-ㅎ|가-힣]', emjeol):\n",
    "        emjeol_code = ord(emjeol)\n",
    "        chosung_index = int((emjeol_code - 44032) / 588)\n",
    "        jungsung_index = int((emjeol_code - 44032 - (chosung_index * 588)) / 28)\n",
    "        jongsung_index = int((emjeol_code - 44032 - (chosung_index * 588) - (jungsung_index * 28)))\n",
    "        return CHO[chosung_index] + JOONG[jungsung_index] + JONG[jongsung_index]\n",
    "    else :\n",
    "        return emjeol\n",
    "    \n",
    "\n",
    "\n",
    "eojeol = '지원이는??'\n",
    "jamo = ''\n",
    "word, josaeomi = divide_josa_eomi(eojeol)\n",
    "print(word, josaeomi)\n"
   ]
  },
  {
   "cell_type": "code",
   "execution_count": null,
   "metadata": {},
   "outputs": [],
   "source": [
    "eojeol = '지원이는??'\n",
    "\n",
    "def divide_josa_eomi(eojeol):\n",
    "    eojeol_decompose = ''\n",
    "    special_txt = ''\n",
    "    tail = ''\n",
    "    for idx in range(len(eojeol)-1, -1, -1):\n",
    "        emjeol_code = ord(eojeol[idx])\n",
    "        special_Code = False\n",
    "        if re.match(r'[ㄱ-ㅎ|가-힣]', eojeol[idx]):\n",
    "            chosung_index = int((emjeol_code - 44032) / 588)\n",
    "            jungsung_index = int((emjeol_code - 44032 - (chosung_index * 588)) / 28)\n",
    "            jongsung_index = int((emjeol_code - 44032 - (chosung_index * 588) - (jungsung_index * 28)))\n",
    "            \n",
    "            eojeol_decompose = (CHO[chosung_index] + JOONG[jungsung_index] + JONG[jongsung_index]) + '/' + eojeol_decompose\n",
    "        \n",
    "        else :\n",
    "            special_Code = True\n",
    "        \n",
    "        if special_Code:\n",
    "            special_txt = eojeol[idx] + special_txt\n",
    "        else:\n",
    "            if len(special_txt) > 1:\n",
    "                tail = ''\n",
    "                compare_txt = special_txt[-1]\n",
    "                special_txt = special_txt[:-1]\n",
    "                while special_txt:\n",
    "                    if special_txt[-1] == compare_txt:\n",
    "                        special_txt = special_txt[:-1]\n",
    "                        if compare_txt == '.':\n",
    "                            tail = '...'\n",
    "                            special_txt = special_txt[-1]\n",
    "                        elif compare_txt in ['(', ')', '[', ']', '{', '}']:\n",
    "                            pass\n",
    "                        else:\n",
    "                            special_Code = special_txt[-1]\n",
    "                    else:\n",
    "\n",
    "                \n",
    "            \n",
    "            # if eojeol[idx] == '.':\n",
    "            #     eojeol = eojeol[:idx+1]\n",
    "            #     tail = '..'\n",
    "            # elif eojeol[idx] in ['(', ')', '[', ']', '{', '}']:\n",
    "            #     pass\n",
    "            # else :\n",
    "            #     eojeol = eojeol[:idx+1]\n",
    "        \n",
    "\n"
   ]
  },
  {
   "cell_type": "code",
   "execution_count": 41,
   "metadata": {},
   "outputs": [
    {
     "name": "stdout",
     "output_type": "stream",
     "text": [
      "가\n",
      "k\n",
      "r\n"
     ]
    }
   ],
   "source": [
    "dk = '가나'\n",
    "dk = 'rk' + dk\n",
    "for a in dk[-2::-1]:\n",
    "    print(a)"
   ]
  },
  {
   "cell_type": "code",
   "execution_count": 7,
   "metadata": {},
   "outputs": [
    {
     "data": {
      "text/plain": [
       "'가ᴥ다'"
      ]
     },
     "execution_count": 7,
     "metadata": {},
     "output_type": "execute_result"
    }
   ],
   "source": [
    "DEFAULT_COMPOSE_CODE = 'ᴥ'\n",
    "test = ['가', '다']\n",
    "DEFAULT_COMPOSE_CODE.join(test)"
   ]
  },
  {
   "cell_type": "code",
   "execution_count": null,
   "metadata": {},
   "outputs": [],
   "source": [
    "EOJEOL_TYPO = {'완전':'오나전', '뭘': '무러', '했는데':'햇는ㄷ', '처럼':'철머'}"
   ]
  },
  {
   "cell_type": "code",
   "execution_count": null,
   "metadata": {},
   "outputs": [],
   "source": [
    "eojeol_ex = 'ㄴ'"
   ]
  },
  {
   "cell_type": "code",
   "execution_count": null,
   "metadata": {},
   "outputs": [],
   "source": []
  }
 ],
 "metadata": {
  "kernelspec": {
   "display_name": "base",
   "language": "python",
   "name": "python3"
  },
  "language_info": {
   "codemirror_mode": {
    "name": "ipython",
    "version": 3
   },
   "file_extension": ".py",
   "mimetype": "text/x-python",
   "name": "python",
   "nbconvert_exporter": "python",
   "pygments_lexer": "ipython3",
   "version": "3.10.9"
  },
  "orig_nbformat": 4
 },
 "nbformat": 4,
 "nbformat_minor": 2
}
