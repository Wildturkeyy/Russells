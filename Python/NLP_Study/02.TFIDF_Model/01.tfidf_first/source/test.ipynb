{
 "cells": [
  {
   "cell_type": "code",
   "execution_count": 9,
   "metadata": {},
   "outputs": [
    {
     "name": "stdout",
     "output_type": "stream",
     "text": [
      "['../input_file/']\n",
      "[['1.txt', '2.txt']]\n",
      "YES\n"
     ]
    }
   ],
   "source": [
    "import os\n",
    "root_list = []\n",
    "filenames_list = []\n",
    "for root, _, filenames in os.walk('../input_file/'):\n",
    "    root_list.append(root)\n",
    "    filenames_list.append(filenames)\n",
    "    \n",
    "print(root_list)\n",
    "print(filenames_list)\n",
    "if len(root_list):\n",
    "    print('YES')"
   ]
  },
  {
   "cell_type": "code",
   "execution_count": 5,
   "metadata": {},
   "outputs": [
    {
     "data": {
      "text/plain": [
       "{'a': 2}"
      ]
     },
     "execution_count": 5,
     "metadata": {},
     "output_type": "execute_result"
    }
   ],
   "source": [
    "test_dict = {}\n",
    "test_dict['a'] = test_dict.get('a', 1)\n",
    "test_dict['a'] = test_dict.get('a', 0)+1\n",
    "test_dict"
   ]
  },
  {
   "cell_type": "code",
   "execution_count": null,
   "metadata": {},
   "outputs": [],
   "source": [
    "with open('../input_file/', 'r') as file:\n",
    "    line = file.readline()\n",
    "    if not line:\n",
    "    "
   ]
  }
 ],
 "metadata": {
  "kernelspec": {
   "display_name": "base",
   "language": "python",
   "name": "python3"
  },
  "language_info": {
   "codemirror_mode": {
    "name": "ipython",
    "version": 3
   },
   "file_extension": ".py",
   "mimetype": "text/x-python",
   "name": "python",
   "nbconvert_exporter": "python",
   "pygments_lexer": "ipython3",
   "version": "3.9.13"
  },
  "orig_nbformat": 4
 },
 "nbformat": 4,
 "nbformat_minor": 2
}
